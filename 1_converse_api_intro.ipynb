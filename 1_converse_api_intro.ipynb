{
 "cells": [
  {
   "cell_type": "markdown",
   "metadata": {},
   "source": [
    "# Intro to Converse API\n",
    "\n",
    "> *This notebook should work well with the **`conda_python3`** kernel in SageMaker Studio on ml.t3.medium instance*\n",
    "\n",
    "---\n",
    "\n",
    "In the prior notebook, we invoked models using the `invoke_model` API. In this notebook we'll explore the converse API which offers several advantages over the invoke API including:\n",
    "- Standardized inputs and outputs across all models\n",
    "- Better conversation handling via the standardize `message` format\n",
    "- Access to additional functionality such as `tool_usage`\n",
    "\n",
    "\n",
    "---"
   ]
  },
  {
   "cell_type": "code",
   "execution_count": 4,
   "metadata": {},
   "outputs": [
    {
     "name": "stdout",
     "output_type": "stream",
     "text": [
      "Validating base environment\n",
      "Base environment validated successfully\n"
     ]
    },
    {
     "data": {
      "text/html": [
       "<pre style=\"white-space:pre;overflow-x:auto;line-height:normal;font-family:Menlo,'DejaVu Sans Mono',consolas,'Courier New',monospace\"><span style=\"color: #4cc9f0; text-decoration-color: #4cc9f0; font-weight: bold\">Validating lab environment from requirements.txt</span> ✨\n",
       "</pre>\n"
      ],
      "text/plain": [
       "\u001b[1;38;2;76;201;240mValidating lab environment from requirements.txt\u001b[0m ✨\n"
      ]
     },
     "metadata": {},
     "output_type": "display_data"
    },
    {
     "data": {
      "text/html": [
       "<pre style=\"white-space:pre;overflow-x:auto;line-height:normal;font-family:Menlo,'DejaVu Sans Mono',consolas,'Courier New',monospace\"><span style=\"color: #e85d04; text-decoration-color: #e85d04; font-weight: bold; text-decoration: underline\">ENVIRONMENT STATUS</span>\n",
       "✅ <span style=\"color: #008000; text-decoration-color: #008000\"> boto3&gt;=</span><span style=\"color: #008000; text-decoration-color: #008000; font-weight: bold\">1.37</span><span style=\"color: #008000; text-decoration-color: #008000\">.</span><span style=\"color: #008000; text-decoration-color: #008000; font-weight: bold\">22</span><span style=\"color: #008000; text-decoration-color: #008000\">, </span><span style=\"color: #008000; text-decoration-color: #008000; font-weight: bold\">&lt;</span><span style=\"color: #008000; text-decoration-color: #008000; font-weight: bold\">2.0</span><span style=\"color: #008000; text-decoration-color: #008000; font-weight: bold\">.</span><span style=\"color: #008000; text-decoration-color: #008000; font-weight: bold\">0</span><span style=\"color: #008000; text-decoration-color: #008000\"> is installed</span>\n",
       "<span style=\"color: #000000; text-decoration-color: #000000\">✅ </span><span style=\"color: #008000; text-decoration-color: #008000\"> botocore</span><span style=\"color: #008000; text-decoration-color: #008000; font-weight: bold\">&gt;</span><span style=\"color: #008000; text-decoration-color: #008000\">=</span><span style=\"color: #008000; text-decoration-color: #008000; font-weight: bold\">1.37</span><span style=\"color: #008000; text-decoration-color: #008000\">.</span><span style=\"color: #008000; text-decoration-color: #008000; font-weight: bold\">22</span><span style=\"color: #008000; text-decoration-color: #008000\">, &lt;</span><span style=\"color: #008000; text-decoration-color: #008000; font-weight: bold\">2.0</span><span style=\"color: #008000; text-decoration-color: #008000\">.</span><span style=\"color: #008000; text-decoration-color: #008000; font-weight: bold\">0</span><span style=\"color: #008000; text-decoration-color: #008000\"> is installed</span>\n",
       "\n",
       "</pre>\n"
      ],
      "text/plain": [
       "\u001b[1;4;38;2;232;93;4mENVIRONMENT STATUS\u001b[0m\n",
       "✅ \u001b[32m boto3>=\u001b[0m\u001b[1;32m1.37\u001b[0m\u001b[32m.\u001b[0m\u001b[1;32m22\u001b[0m\u001b[32m, \u001b[0m\u001b[1;32m<\u001b[0m\u001b[1;32m2.0\u001b[0m\u001b[1;32m.\u001b[0m\u001b[1;32m0\u001b[0m\u001b[32m is installed\u001b[0m\n",
       "\u001b[39m✅ \u001b[0m\u001b[32m botocore\u001b[0m\u001b[1;32m>\u001b[0m\u001b[32m=\u001b[0m\u001b[1;32m1.37\u001b[0m\u001b[32m.\u001b[0m\u001b[1;32m22\u001b[0m\u001b[32m, <\u001b[0m\u001b[1;32m2.0\u001b[0m\u001b[32m.\u001b[0m\u001b[1;32m0\u001b[0m\u001b[32m is installed\u001b[0m\n",
       "\n"
      ]
     },
     "metadata": {},
     "output_type": "display_data"
    },
    {
     "data": {
      "text/html": [
       "<pre style=\"white-space:pre;overflow-x:auto;line-height:normal;font-family:Menlo,'DejaVu Sans Mono',consolas,'Courier New',monospace\"><span style=\"color: #a7c957; text-decoration-color: #a7c957\">All required libraries are installed.🎉</span>\n",
       "<span style=\"color: #a7c957; text-decoration-color: #a7c957\">You may proceed with the lab! 🚀</span>\n",
       "</pre>\n"
      ],
      "text/plain": [
       "\u001b[38;2;167;201;87mAll required libraries are installed.🎉\u001b[0m\n",
       "\u001b[38;2;167;201;87mYou may proceed with the lab! 🚀\u001b[0m\n"
      ]
     },
     "metadata": {},
     "output_type": "display_data"
    }
   ],
   "source": [
    "import sys\n",
    "import os\n",
    "module_path = \"..\"\n",
    "sys.path.append(os.path.abspath(module_path))\n",
    "from utils.environment_validation import validate_environment, validate_model_access\n",
    "validate_environment()"
   ]
  },
  {
   "cell_type": "code",
   "execution_count": 5,
   "metadata": {},
   "outputs": [
    {
     "data": {
      "text/html": [
       "<pre style=\"white-space:pre;overflow-x:auto;line-height:normal;font-family:Menlo,'DejaVu Sans Mono',consolas,'Courier New',monospace\"><span style=\"color: #e85d04; text-decoration-color: #e85d04; font-weight: bold; text-decoration: underline\">MODEL ACCESS STATUS</span>\n",
       "✅ <span style=\"color: #008000; text-decoration-color: #008000\"> us.anthropic.claude-</span><span style=\"color: #008000; text-decoration-color: #008000; font-weight: bold\">3</span><span style=\"color: #008000; text-decoration-color: #008000\">-</span><span style=\"color: #008000; text-decoration-color: #008000; font-weight: bold\">5</span><span style=\"color: #008000; text-decoration-color: #008000\">-haiku-</span><span style=\"color: #008000; text-decoration-color: #008000; font-weight: bold\">20241022</span><span style=\"color: #008000; text-decoration-color: #008000\">-v</span><span style=\"color: #008000; text-decoration-color: #008000; font-weight: bold\">1:0</span><span style=\"color: #008000; text-decoration-color: #008000\"> is accessible</span>\n",
       "✅ <span style=\"color: #008000; text-decoration-color: #008000\"> us.anthropic.claude-</span><span style=\"color: #008000; text-decoration-color: #008000; font-weight: bold\">3</span><span style=\"color: #008000; text-decoration-color: #008000\">-</span><span style=\"color: #008000; text-decoration-color: #008000; font-weight: bold\">5</span><span style=\"color: #008000; text-decoration-color: #008000\">-sonnet-</span><span style=\"color: #008000; text-decoration-color: #008000; font-weight: bold\">20241022</span><span style=\"color: #008000; text-decoration-color: #008000\">-v</span><span style=\"color: #008000; text-decoration-color: #008000; font-weight: bold\">2:0</span><span style=\"color: #008000; text-decoration-color: #008000\"> is accessible</span>\n",
       "✅ <span style=\"color: #008000; text-decoration-color: #008000\"> us.amazon.nova-pro-v</span><span style=\"color: #008000; text-decoration-color: #008000; font-weight: bold\">1:0</span><span style=\"color: #008000; text-decoration-color: #008000\"> is accessible</span>\n",
       "\n",
       "</pre>\n"
      ],
      "text/plain": [
       "\u001b[1;4;38;2;232;93;4mMODEL ACCESS STATUS\u001b[0m\n",
       "✅ \u001b[32m us.anthropic.claude-\u001b[0m\u001b[1;32m3\u001b[0m\u001b[32m-\u001b[0m\u001b[1;32m5\u001b[0m\u001b[32m-haiku-\u001b[0m\u001b[1;32m20241022\u001b[0m\u001b[32m-v\u001b[0m\u001b[1;32m1:0\u001b[0m\u001b[32m is accessible\u001b[0m\n",
       "✅ \u001b[32m us.anthropic.claude-\u001b[0m\u001b[1;32m3\u001b[0m\u001b[32m-\u001b[0m\u001b[1;32m5\u001b[0m\u001b[32m-sonnet-\u001b[0m\u001b[1;32m20241022\u001b[0m\u001b[32m-v\u001b[0m\u001b[1;32m2:0\u001b[0m\u001b[32m is accessible\u001b[0m\n",
       "✅ \u001b[32m us.amazon.nova-pro-v\u001b[0m\u001b[1;32m1:0\u001b[0m\u001b[32m is accessible\u001b[0m\n",
       "\n"
      ]
     },
     "metadata": {},
     "output_type": "display_data"
    },
    {
     "data": {
      "text/html": [
       "<pre style=\"white-space:pre;overflow-x:auto;line-height:normal;font-family:Menlo,'DejaVu Sans Mono',consolas,'Courier New',monospace\"><span style=\"color: #a7c957; text-decoration-color: #a7c957\">All required models are accessible.🎉</span>\n",
       "<span style=\"color: #a7c957; text-decoration-color: #a7c957\">You may proceed with the lab! 🚀</span>\n",
       "</pre>\n"
      ],
      "text/plain": [
       "\u001b[38;2;167;201;87mAll required models are accessible.🎉\u001b[0m\n",
       "\u001b[38;2;167;201;87mYou may proceed with the lab! 🚀\u001b[0m\n"
      ]
     },
     "metadata": {},
     "output_type": "display_data"
    }
   ],
   "source": [
    "required_models = [\n",
    "    \"us.anthropic.claude-3-5-haiku-20241022-v1:0\",\n",
    "    \"us.anthropic.claude-3-5-sonnet-20241022-v2:0\",\n",
    "    \"us.amazon.nova-pro-v1:0\",\n",
    "]\n",
    "validate_model_access(required_models)"
   ]
  },
  {
   "cell_type": "code",
   "execution_count": 6,
   "metadata": {},
   "outputs": [],
   "source": [
    "# used to interact with AWS APIs\n",
    "import boto3\n",
    "\n",
    "# used for pretty printing\n",
    "from rich import print as rprint\n",
    "from rich.markdown import Markdown, Syntax\n",
    "\n",
    "bedrock = boto3.client(\"bedrock\")                   # administrative API used to interact with Bedrock\n",
    "bedrock_runtime = boto3.client(\"bedrock-runtime\")   # runtime API used to invoke models\n",
    "\n",
    "# See link for available model IDs: https://docs.aws.amazon.com/bedrock/latest/userguide/models-supported.html\n",
    "MODEL_ID = \"us.amazon.nova-pro-v1:0\" # you can change this to any model you have access to and everything should work without any code changes\n",
    "\n",
    "# See link for available inference configurations: https://docs.aws.amazon.com/bedrock/latest/APIReference/API_runtime_InferenceConfiguration.html\n",
    "INFERENCE_CONFIG = {\n",
    "    \"maxTokens\": 1000,\n",
    "    \"temperature\": 0,\n",
    "}"
   ]
  },
  {
   "cell_type": "markdown",
   "metadata": {},
   "source": [
    "### Invoke model with text prompt\n",
    "\n",
    "We start with the simplest example of invoking a model with a text prompt. We will use the [converse](https://docs.aws.amazon.com/bedrock/latest/APIReference/API_runtime_Converse.html) API to interact with the model.\n",
    "The converse API provides a consistent way to interact with different models offered by Bedrock. Each model may have a different set of supported features and modalities which are documented [here](https://docs.aws.amazon.com/bedrock/latest/userguide/conversation-inference-supported-models-features.html)."
   ]
  },
  {
   "cell_type": "code",
   "execution_count": 7,
   "metadata": {},
   "outputs": [
    {
     "data": {
      "text/html": [
       "<pre style=\"white-space:pre;overflow-x:auto;line-height:normal;font-family:Menlo,'DejaVu Sans Mono',consolas,'Courier New',monospace\">The ratio that contains a company's cash flow from operations in the numerator and cash outflows from investing and\n",
       "financing activities in the denominator is known as the <span style=\"font-weight: bold\">Cash Flow Coverage Ratio</span>. This ratio is used to assess a   \n",
       "company's ability to cover its investing and financing cash outflows using the cash generated from its operations. \n",
       "\n",
       "                                                     <span style=\"font-weight: bold\">Formula:</span>                                                      \n",
       "\n",
       "[ \\text{Cash Flow Coverage Ratio} = \\frac{\\text{Cash Flow from Operations}}{\\text{Cash Outflows from Investing and \n",
       "Financing Activities}} ]                                                                                           \n",
       "\n",
       "                                                  <span style=\"font-weight: bold\">Interpretation:</span>                                                  \n",
       "\n",
       "<span style=\"color: #808000; text-decoration-color: #808000; font-weight: bold\"> • </span><span style=\"font-weight: bold\">Greater than 1</span>: Indicates that the company generates sufficient cash from its operations to cover its investing \n",
       "<span style=\"color: #808000; text-decoration-color: #808000; font-weight: bold\">   </span>and financing needs. This is generally a positive sign of financial health.                                     \n",
       "<span style=\"color: #808000; text-decoration-color: #808000; font-weight: bold\"> • </span><span style=\"font-weight: bold\">Equal to 1</span>: Suggests that the company’s operational cash flow exactly matches its cash outflows for investing   \n",
       "<span style=\"color: #808000; text-decoration-color: #808000; font-weight: bold\">   </span>and financing activities. This leaves little room for error or unexpected expenses.                             \n",
       "<span style=\"color: #808000; text-decoration-color: #808000; font-weight: bold\"> • </span><span style=\"font-weight: bold\">Less than 1</span>: Implies that the company does not generate enough cash from operations to cover its investing and  \n",
       "<span style=\"color: #808000; text-decoration-color: #808000; font-weight: bold\">   </span>financing outflows. This could be a red flag, indicating potential cash flow problems.                          \n",
       "\n",
       "                                                    <span style=\"font-weight: bold\">Importance:</span>                                                    \n",
       "\n",
       "<span style=\"color: #808000; text-decoration-color: #808000; font-weight: bold\"> • </span><span style=\"font-weight: bold\">Financial Health</span>: Provides insight into the company’s ability to sustain its operations and growth initiatives  \n",
       "<span style=\"color: #808000; text-decoration-color: #808000; font-weight: bold\">   </span>without relying heavily on external financing.                                                                  \n",
       "<span style=\"color: #808000; text-decoration-color: #808000; font-weight: bold\"> • </span><span style=\"font-weight: bold\">Risk Assessment</span>: Helps investors and creditors assess the risk associated with the company’s cash flow          \n",
       "<span style=\"color: #808000; text-decoration-color: #808000; font-weight: bold\">   </span>management.                                                                                                     \n",
       "<span style=\"color: #808000; text-decoration-color: #808000; font-weight: bold\"> • </span><span style=\"font-weight: bold\">Operational Efficiency</span>: Reflects how effectively the company is converting its operations into cash to fund its \n",
       "<span style=\"color: #808000; text-decoration-color: #808000; font-weight: bold\">   </span>growth and financial obligations.                                                                               \n",
       "\n",
       "In summary, the Cash Flow Coverage Ratio is a vital metric for evaluating a company's financial stability and      \n",
       "operational efficiency.                                                                                            \n",
       "</pre>\n"
      ],
      "text/plain": [
       "The ratio that contains a company's cash flow from operations in the numerator and cash outflows from investing and\n",
       "financing activities in the denominator is known as the \u001b[1mCash Flow Coverage Ratio\u001b[0m. This ratio is used to assess a   \n",
       "company's ability to cover its investing and financing cash outflows using the cash generated from its operations. \n",
       "\n",
       "                                                     \u001b[1mFormula:\u001b[0m                                                      \n",
       "\n",
       "[ \\text{Cash Flow Coverage Ratio} = \\frac{\\text{Cash Flow from Operations}}{\\text{Cash Outflows from Investing and \n",
       "Financing Activities}} ]                                                                                           \n",
       "\n",
       "                                                  \u001b[1mInterpretation:\u001b[0m                                                  \n",
       "\n",
       "\u001b[1;33m • \u001b[0m\u001b[1mGreater than 1\u001b[0m: Indicates that the company generates sufficient cash from its operations to cover its investing \n",
       "\u001b[1;33m   \u001b[0mand financing needs. This is generally a positive sign of financial health.                                     \n",
       "\u001b[1;33m • \u001b[0m\u001b[1mEqual to 1\u001b[0m: Suggests that the company’s operational cash flow exactly matches its cash outflows for investing   \n",
       "\u001b[1;33m   \u001b[0mand financing activities. This leaves little room for error or unexpected expenses.                             \n",
       "\u001b[1;33m • \u001b[0m\u001b[1mLess than 1\u001b[0m: Implies that the company does not generate enough cash from operations to cover its investing and  \n",
       "\u001b[1;33m   \u001b[0mfinancing outflows. This could be a red flag, indicating potential cash flow problems.                          \n",
       "\n",
       "                                                    \u001b[1mImportance:\u001b[0m                                                    \n",
       "\n",
       "\u001b[1;33m • \u001b[0m\u001b[1mFinancial Health\u001b[0m: Provides insight into the company’s ability to sustain its operations and growth initiatives  \n",
       "\u001b[1;33m   \u001b[0mwithout relying heavily on external financing.                                                                  \n",
       "\u001b[1;33m • \u001b[0m\u001b[1mRisk Assessment\u001b[0m: Helps investors and creditors assess the risk associated with the company’s cash flow          \n",
       "\u001b[1;33m   \u001b[0mmanagement.                                                                                                     \n",
       "\u001b[1;33m • \u001b[0m\u001b[1mOperational Efficiency\u001b[0m: Reflects how effectively the company is converting its operations into cash to fund its \n",
       "\u001b[1;33m   \u001b[0mgrowth and financial obligations.                                                                               \n",
       "\n",
       "In summary, the Cash Flow Coverage Ratio is a vital metric for evaluating a company's financial stability and      \n",
       "operational efficiency.                                                                                            \n"
      ]
     },
     "metadata": {},
     "output_type": "display_data"
    }
   ],
   "source": [
    "# our prompt\n",
    "input_text = \"\"\"What does the ratio that contains a company's cash flow from operations in its numerator and\n",
    "cash outflows from investing and financing activities in its denominator measure?\"\"\"\n",
    "\n",
    "# each input and response are represented as a message JSON object\n",
    "text_prompt_message = {\n",
    "    \"role\": \"user\", # inputs come from the user, responses come from the assistant\n",
    "    \"content\": [\n",
    "        { \"text\": input_text },\n",
    "        ]\n",
    "}\n",
    "\n",
    "# the api expects a list of messages for the entire conversation\n",
    "# you'd add more messages to this list if you were continuing a conversation\n",
    "text_prompt_messages = [text_prompt_message]\n",
    "\n",
    "# invoke the model\n",
    "text_prompt_response = bedrock_runtime.converse(\n",
    "        modelId=MODEL_ID,\n",
    "        inferenceConfig=INFERENCE_CONFIG,\n",
    "        messages=text_prompt_messages\n",
    "    )\n",
    "\n",
    "# extract the text output from the response\n",
    "text_prompt_output = text_prompt_response[\"output\"][\"message\"][\"content\"][0][\"text\"]\n",
    "\n",
    "rprint(Markdown(text_prompt_output))"
   ]
  },
  {
   "cell_type": "markdown",
   "metadata": {},
   "source": [
    "### Invoke model with an image prompt\n",
    "\n",
    "Certain models can also be invoked with image data. This can be useful for tasks like image captioning, or extracting data from documents without having to convert them to text through OCR.\n",
    "Let's load and example image and provide it as part of our prompt."
   ]
  },
  {
   "cell_type": "code",
   "execution_count": 8,
   "metadata": {},
   "outputs": [
    {
     "data": {
      "image/png": "[encoded data removed]",
      "text/plain": [
       "<PIL.PngImagePlugin.PngImageFile image mode=P size=850x1100>"
      ]
     },
     "metadata": {},
     "output_type": "display_data"
    }
   ],
   "source": [
    "from PIL import Image\n",
    "from io import BytesIO \n",
    "from pathlib import Path\n",
    "image_path = \"data/yield_report_page_3.png\"\n",
    "image = Image.open(image_path)\n",
    "image.show()\n",
    "\n",
    "image_bytes = BytesIO()\n",
    "image.save(image_bytes, format=\"PNG\")\n",
    "image_bytes = image_bytes.getvalue()"
   ]
  },
  {
   "cell_type": "code",
   "execution_count": null,
   "metadata": {},
   "outputs": [],
   "source": [
    "image_example_text_prompt = \"\"\"Provide a table and an analysis of the yield trends of AAA rated bonds from 2020 to 2025\"\"\"\n",
    "\n",
    "image_prompt_message = {\n",
    "    \"role\": \"user\",\n",
    "    \"content\": [\n",
    "        {\"text\": image_example_text_prompt},  # text component of the message\n",
    "        {\n",
    "            \"image\": {\n",
    "                \"format\": \"png\",\n",
    "                \"source\": {\"bytes\": image_bytes},\n",
    "            },  # image component of the message. Images can be passed as bytes, URLs, or base64 strings\n",
    "        },\n",
    "    ],\n",
    "}\n",
    "\n",
    "image_prompt_messages = [image_prompt_message]\n",
    "\n",
    "\n",
    "image_prompt_response = bedrock_runtime.converse(\n",
    "    modelId=MODEL_ID, inferenceConfig=INFERENCE_CONFIG, messages=image_prompt_messages\n",
    ")\n",
    "\n",
    "image_prompt_output = image_prompt_response[\"output\"][\"message\"][\"content\"][0][\"text\"]\n",
    "\n",
    "rprint(Markdown(image_prompt_output))"
   ]
  },
  {
   "cell_type": "markdown",
   "metadata": {},
   "source": [
    "### Invoke model with PDF prompt\n",
    "Models can also work directly with documents of various formats such as PDF, MD, DOC, DOCX, XLSX. See [here](https://docs.aws.amazon.com/bedrock/latest/userguide/knowledge-base-chatdoc.html) for more details on supported document formats.\n",
    "\n",
    "**Note**: This functionality is mostly useful for enabling document chat where a user can upload a document and ask questions about it. It is not recommended for more complex IDP use-cases where additional pre-processing is required."
   ]
  },
  {
   "cell_type": "code",
   "execution_count": null,
   "metadata": {},
   "outputs": [],
   "source": [
    "doc_file_path = (\n",
    "    \"data/Amazon-com-Inc-2023-Shareholder-Letter.pdf\"\n",
    ")\n",
    "\n",
    "doc_bytes = Path(doc_file_path).read_bytes()\n",
    "\n",
    "doc_example_text_prompt = \"\"\"What were some key Amazon product launches in 2023?\"\"\"\n",
    "\n",
    "doc_prompt_message = {\n",
    "    \"role\": \"user\",\n",
    "    \"content\": [\n",
    "        {\"text\": doc_example_text_prompt},\n",
    "        {\n",
    "            \"document\": {\n",
    "                \"name\": \"Amazon 2023 Shareholder Letter\",\n",
    "                \"format\": \"pdf\",\n",
    "                \"source\": {\"bytes\": doc_bytes},\n",
    "            },\n",
    "        },\n",
    "    ],\n",
    "}\n",
    "\n",
    "doc_prompt_messages = [doc_prompt_message]\n",
    "\n",
    "\n",
    "doc_prompt_response = bedrock_runtime.converse(\n",
    "    modelId=MODEL_ID, inferenceConfig=INFERENCE_CONFIG, messages=doc_prompt_messages\n",
    ")\n",
    "\n",
    "doc_prompt_output = doc_prompt_response[\"output\"][\"message\"][\"content\"][0][\"text\"]\n",
    "\n",
    "rprint(Markdown(doc_prompt_output))"
   ]
  },
  {
   "cell_type": "markdown",
   "metadata": {},
   "source": [
    "### Invoke Model with Tool Use\n",
    "Tool usage is a powerful feature that enables developers to augment the model's capabilities with customized external tools. Underpinning this capability is the model's ability to identify which tool to use for a given task, and generate a request to the tool in a format that is consistent with the tool's signature.\n",
    "\n",
    "In the example below we will create a simple yet powerful tool that can be used to run a python snippet generated by the model and return the output."
   ]
  },
  {
   "cell_type": "markdown",
   "metadata": {},
   "source": [
    "> 🚨 **Caution** The example below will enable the model to execute arbitrary python code. This is provided to demonstrate the model's capability to invoke external tools and generate python code and should not be used in production. > Recommended practices for running LLM generated code in production include:\n",
    "> - Running the code in an isolated sandboxed environment\n",
    "> - Limiting the execution time and resources available to the code\n",
    "> - Validating the code before execution\n",
    "> - Restricting the code to a specific set of libraries"
   ]
  },
  {
   "cell_type": "code",
   "execution_count": null,
   "metadata": {},
   "outputs": [],
   "source": [
    "from tempfile import NamedTemporaryFile\n",
    "import sys\n",
    "import os\n",
    "import subprocess\n",
    "\n",
    "\n",
    "def run_python_code(code: str) -> str:\n",
    "    \"will run the python code and return the output\"\n",
    "    \n",
    "    with NamedTemporaryFile(mode=\"w\", delete=False) as f:\n",
    "        f.write(code)\n",
    "        f.close()\n",
    "        \n",
    "        try:\n",
    "            result = subprocess.run([sys.executable, f.name], capture_output=True, text=True, check=True)\n",
    "            return result.stdout\n",
    "        except subprocess.CalledProcessError as e:\n",
    "            return e.stderr\n",
    "        finally:\n",
    "            os.remove(f.name)"
   ]
  },
  {
   "cell_type": "markdown",
   "metadata": {},
   "source": [
    "To make the model aware of the available tools, we need to provide the tool's metadata to the model. This metadata includes the tool's name, description, and the input and output formats. The model uses this metadata to generate the request to the tool in a format that is consistent with the tool's signature. Refer to the documentation [here](https://docs.aws.amazon.com/bedrock/latest/userguide/tool-use-inference-call.html) for more details on how to use custom tools use with Bedrock models."
   ]
  },
  {
   "cell_type": "code",
   "execution_count": null,
   "metadata": {},
   "outputs": [],
   "source": [
    "tool_config = {\n",
    "    \"tools\": [\n",
    "        {\n",
    "            \"toolSpec\": {\n",
    "                \"name\": \"run_python_code\",\n",
    "                \"description\": f\"Runs the provided python code and returns the standard output\",\n",
    "                \"inputSchema\": {\n",
    "                    \"json\": {\n",
    "                        \"type\": \"object\",\n",
    "                        \"properties\": {\n",
    "                            \"code\": {\n",
    "                                \"type\": \"string\",\n",
    "                                \"description\": \"A string representing valid python code to be executed\"\n",
    "                            }\n",
    "                        },\n",
    "                        \"required\": [\n",
    "                            \"code\"\n",
    "                        ]\n",
    "                    }\n",
    "                }\n",
    "            }\n",
    "        }\n",
    "    ]\n",
    "}"
   ]
  },
  {
   "cell_type": "code",
   "execution_count": null,
   "metadata": {},
   "outputs": [],
   "source": [
    "# construct a prompt that should trigger a tool\n",
    "tool_prompt = (\n",
    "    \"Answer the question below. Use tools to help answer any question that requires code or more complex calculations.\\n\"\n",
    "    \"If using code, make sure the code prints any required responses to the standard output.\\n\"\n",
    "    \"QUESTION: A 180-day money market instrument is quoted at an add-on rate of 4.76% for a 360-day year. What is the bond equivalent yield of the instrument? Answer as a percentage with two decimal places.\"\n",
    ")\n",
    "\n",
    "tool_prompt_message = {\n",
    "    \"role\": \"user\",\n",
    "    \"content\": [\n",
    "        {\"text\": tool_prompt},\n",
    "    ],\n",
    "}\n",
    "\n",
    "tool_prompt_messages = [tool_prompt_message]\n",
    "\n",
    "\n",
    "tool_prompt_response = bedrock_runtime.converse(\n",
    "    modelId=MODEL_ID,\n",
    "    inferenceConfig=INFERENCE_CONFIG,\n",
    "    messages=tool_prompt_messages,\n",
    "    toolConfig=tool_config,  # add the tool configuration to the request\n",
    ")\n",
    "\n",
    "# check if the response contains a tool use \n",
    "if tool_prompt_response[\"stopReason\"] == \"tool_use\":\n",
    "    message_content = tool_prompt_response[\"output\"][\"message\"][\"content\"]\n",
    "    text_content, tool_content = message_content\n",
    "    generated_code = tool_content[\"toolUse\"][\"input\"][\"code\"]\n",
    "    rprint(Markdown(f\"## LLM Reasoning\\n{text_content['text']}\"))\n",
    "\n",
    "    rprint(\n",
    "        Markdown(\"## Generated Code\"),\n",
    "        Syntax(generated_code, \"python\", line_numbers=True, theme=\"lightbulb\"),\n",
    "    )\n",
    "    tool_output = run_python_code(generated_code)\n",
    "    rprint(Markdown(\"## Tool Output\"), Syntax(tool_output, \"python\", theme=\"lightbulb\"))"
   ]
  },
  {
   "cell_type": "code",
   "execution_count": null,
   "metadata": {},
   "outputs": [],
   "source": []
  }
 ],
 "metadata": {
  "kernelspec": {
   "display_name": "Python 3 (ipykernel)",
   "language": "python",
   "name": "python3"
  },
  "language_info": {
   "codemirror_mode": {
    "name": "ipython",
    "version": 3
   },
   "file_extension": ".py",
   "mimetype": "text/x-python",
   "name": "python",
   "nbconvert_exporter": "python",
   "pygments_lexer": "ipython3",
   "version": "3.12.9"
  }
 },
 "nbformat": 4,
 "nbformat_minor": 4
}
